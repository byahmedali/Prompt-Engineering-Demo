{
 "cells": [
  {
   "cell_type": "markdown",
   "id": "6f333a4d",
   "metadata": {},
   "source": [
    "# **Prompt Engineering Guide**\n",
    "\n",
    "This notebook demonstrates prompt engineering principles. It contains explanations, code examples (zero-shot and few-shot), tips on *task, context, examples, role, format, tone*, and guidance for using chain-of-thought (CoT) techniques."
   ]
  },
  {
   "cell_type": "markdown",
   "id": "66fd16db",
   "metadata": {},
   "source": [
    "# Setup\n",
    "\n",
    "Make sure you set your `GROQ_API_KEY` in the environment before running any cells that call the API."
   ]
  },
  {
   "cell_type": "code",
   "execution_count": 1,
   "id": "3c60579e",
   "metadata": {},
   "outputs": [],
   "source": [
    "# Import packages\n",
    "import os\n",
    "from groq import Groq\n",
    "from dotenv import load_dotenv\n",
    "from IPython.display import Markdown, HTML"
   ]
  },
  {
   "cell_type": "code",
   "execution_count": 2,
   "id": "9b6e6e30",
   "metadata": {},
   "outputs": [],
   "source": [
    "# Load GROQ API key from .env file\n",
    "load_dotenv()\n",
    "api_key = os.getenv(\"GROQ_API_KEY\")"
   ]
  },
  {
   "cell_type": "code",
   "execution_count": 3,
   "id": "5adf4671",
   "metadata": {},
   "outputs": [],
   "source": [
    "# Define a helper function around Groq's Chat Completion\n",
    "client = Groq(api_key=api_key)\n",
    "\n",
    "def get_completion(prompt):\n",
    "    messages = [{\"role\": \"user\", \"content\": prompt}]\n",
    "    response = client.chat.completions.create(\n",
    "        messages=messages,\n",
    "        model=\"openai/gpt-oss-120b\",\n",
    "        temperature=0, # this is the degree of randomness of the model's output\n",
    "    )\n",
    "    return response.choices[0].message.content"
   ]
  },
  {
   "cell_type": "markdown",
   "id": "bc804694",
   "metadata": {},
   "source": [
    "# Components of a Prompt "
   ]
  },
  {
   "cell_type": "markdown",
   "id": "a93a33f4",
   "metadata": {},
   "source": [
    "## 1. Task\n",
    "\n",
    "The explicit instruction stating what you want the model to do.\n",
    "\n",
    "Keep it clear, specific, and focused on a single task at a time."
   ]
  },
  {
   "cell_type": "code",
   "execution_count": 4,
   "id": "4972c2f5",
   "metadata": {},
   "outputs": [
    {
     "name": "stdout",
     "output_type": "stream",
     "text": [
      "Hallo, wir lernen Prompt Engineering.\n"
     ]
    }
   ],
   "source": [
    "# Task-only (Zero-shot)\n",
    "input_text = \"Hi, we are learning Prompt Engineering.\"\n",
    "\n",
    "prompt = f\"\"\"Translate the following input text into German.\n",
    "Input text: {input_text}\n",
    "\"\"\"\n",
    "\n",
    "response = get_completion(prompt)\n",
    "\n",
    "print(response)"
   ]
  },
  {
   "cell_type": "markdown",
   "id": "9e07b3e2",
   "metadata": {},
   "source": [
    "## 2. Context\n",
    "\n",
    "Any background information or constraints that help the model produce a more accurate result."
   ]
  },
  {
   "cell_type": "code",
   "execution_count": 5,
   "id": "9e9c046b",
   "metadata": {},
   "outputs": [
    {
     "data": {
      "text/markdown": [
       "🍕✨ **Pizza Planet** – where NYC’s streets meet the perfect wood‑fire blaze! 🌟  \n",
       "Come for the smoky, melt‑in‑your‑mouth slices, stay for the warm, family‑style vibes.  \n",
       "\n",
       "🕒 Open daily 11 am‑10 pm  \n",
       "📍 123 Main St, New York, NY  \n",
       "\n",
       "📸 Snap your slice, tag us #PizzaPlanetNYC and get a **FREE garlic knot** on your next visit!  \n",
       "\n",
       "🔥 **Wood‑fired. Family‑owned. Unforgettable.**  \n",
       "\n",
       "#NYCPizza #WoodFirePizza #FamilyOwned #PizzaLovers #NYCEats 🍕💙"
      ],
      "text/plain": [
       "<IPython.core.display.Markdown object>"
      ]
     },
     "execution_count": 5,
     "metadata": {},
     "output_type": "execute_result"
    }
   ],
   "source": [
    "# Task + Context\n",
    "prompt = \"\"\"\n",
    "Context: Pizza Planet is a small family-owned pizza shop in New York City. \n",
    "They are famous for their wood-fired pizzas and friendly service.\n",
    "\n",
    "Task: Write a short and catchy Instagram post to attract customers.\n",
    "\"\"\"\n",
    "\n",
    "result = get_completion(prompt)\n",
    "Markdown(result)"
   ]
  },
  {
   "cell_type": "markdown",
   "id": "c23d828e",
   "metadata": {},
   "source": [
    "## 3. Examples (Zero-shot / Few-shot / Chain-of-Thought (CoT))\n",
    "\n",
    "#### **Zero-shot:**\n",
    "No examples. Rely on the task and context."
   ]
  },
  {
   "cell_type": "code",
   "execution_count": 6,
   "id": "e9bc784e",
   "metadata": {},
   "outputs": [
    {
     "data": {
      "text/markdown": [
       "**Imagine a magical invisible road that lets your gadgets talk to each other without any wires. That’s what Wi‑Fi is!**  \n",
       "\n",
       "---\n",
       "\n",
       "### 1. The “Post Office” in Your Home  \n",
       "- **Router** – Think of this as the post office in your house. It’s a little box that sits on a shelf or a table.  \n",
       "- **What it does:** It receives messages (like emails, videos, game data) from the big internet “city” and then sends those messages to the devices in your house (your tablet, laptop, game console, etc.).  \n",
       "\n",
       "### 2. The “Invisible Highway”  \n",
       "- **Radio waves** – Just like the radio in the car that plays music, there are invisible waves that travel through the air. Wi‑Fi uses special radio waves that are too fast for us to see.  \n",
       "- **How they work:** The router sends out these waves, and your devices catch them, kind of like catching a ball that’s thrown through the air.\n",
       "\n",
       "### 3. How a Device Gets the Message  \n",
       "1. **You ask for something** – You tap a picture on your tablet or click a video on YouTube.  \n",
       "2. **Your device shouts, “Hey, I want that!”** – It sends a tiny request on the invisible highway to the router.  \n",
       "3. **The router talks to the internet** – The router talks to the big internet “city” (through a cable or a big antenna) and asks for the picture or video.  \n",
       "4. **The internet sends it back** – The internet sends the picture/video back to the router.  \n",
       "5. **Router sends it to you** – The router turns the data into radio waves, and your device catches them and shows you the picture or video on the screen.\n",
       "\n",
       "### 4. Why It’s “Wi‑Fi”  \n",
       "- **Wi‑** comes from “wireless” (no wires).  \n",
       "- **-Fi** comes from “Fidelity,” which is a fancy word for “good quality.” So “Wi‑Fi” means “wireless with good quality.”\n",
       "\n",
       "### 5. A Quick Everyday Example  \n",
       "\n",
       "| **Real‑world thing** | **Wi‑Fi version** |\n",
       "|---------------------|-----------------|\n",
       "| **Post office**   | Router (the house’s post office) |\n",
       "| **Mail**        | Data (pictures, videos, game info) |\n",
       "| **Roads**      | Invisible radio waves |\n",
       "| **Delivery truck** | The signal that travels back and forth |\n",
       "| **Your house** | Your home where all the devices live |\n",
       "\n",
       "### 6. Why It’s Cool  \n",
       "- **No wires needed** – You can move around with your tablet or phone and still stay connected.  \n",
       "- **Many devices at once** – The router can talk to many gadgets at the same time, like a busy post office handling many letters.  \n",
       "- **Fast** – The radio waves travel super‑fast, so you can watch videos or play games without waiting long.\n",
       "\n",
       "### 7. A Little Safety Tip  \n",
       "Just like you lock your front door so strangers can’t come in, you set a **password** on your Wi‑Fi. That way only the people you want can use your invisible road.\n",
       "\n",
       "---\n",
       "\n",
       "**In a nutshell:**  \n",
       "Your router is a tiny, invisible post office that uses invisible radio waves (the invisible highway) to send and receive messages from the internet. Your devices catch those waves, and that’s how you can watch videos, play games, and chat with friends— all without any wires! 🎉"
      ],
      "text/plain": [
       "<IPython.core.display.Markdown object>"
      ]
     },
     "execution_count": 6,
     "metadata": {},
     "output_type": "execute_result"
    }
   ],
   "source": [
    "# Zero-shot example\n",
    "prompt = \"Explain how Wi-Fi works in simple words, as if you are talking to a 10-year-old.\"\n",
    "\n",
    "Markdown(get_completion(prompt))"
   ]
  },
  {
   "cell_type": "markdown",
   "id": "840d3ecd",
   "metadata": {},
   "source": [
    "#### **Few-shot:**\n",
    "Provide 1–3 short `input → output` examples so the model can infer the structure and style."
   ]
  },
  {
   "cell_type": "code",
   "execution_count": 7,
   "id": "e5f5a96a",
   "metadata": {},
   "outputs": [
    {
     "name": "stdout",
     "output_type": "stream",
     "text": [
      "We’re sorry about that! Please let us know your order number and the size you need, and we’ll arrange an exchange right away.\n"
     ]
    }
   ],
   "source": [
    "# Few-shot example\n",
    "message = \"I received the wrong size shirt. Can I exchange it?\"\n",
    "\n",
    "prompt = f\"\"\"You are a customer service assistant. \n",
    "Read the customer's email and reply politely, keeping your answer short and clear.\n",
    "\n",
    "Examples:\n",
    "\n",
    "Customer: \"My package arrived late and the box was damaged.\"\n",
    "Reply: \"We’re sorry to hear that! Please send us a photo of the damage, and we’ll arrange a replacement right away.\"\n",
    "\n",
    "Customer: \"Can I change my delivery address?\"\n",
    "Reply: \"Of course! Please reply with your new address, and we’ll update it before shipping.\"\n",
    "\n",
    "Now complete this one:\n",
    "\n",
    "Customer: {message}\n",
    "Reply:\n",
    "\"\"\"\n",
    "\n",
    "print(get_completion(prompt))"
   ]
  },
  {
   "cell_type": "markdown",
   "id": "f9c496bd",
   "metadata": {},
   "source": [
    "#### **Chain-of-Thought (CoT) Techniques**\n",
    "\n",
    "Chain-of-thought prompts instruct the model to reveal intermediate reasoning steps. Use them carefully:\n",
    "\n",
    "- **When to use:** debugging, teaching, transparent reasoning.\n",
    "- **When to avoid:** tasks requiring concise or private outputs, or when you don't want the model to hallucinate extra steps.\n",
    "\n",
    "**Controlled-CoT pattern (preferred):** Ask for a short step-by-step reasoning section followed by a final concise answer.\n",
    "\n",
    "**Note:** Explicit CoT can sometimes increase risk of hallucination and token use. If the model is unreliable with CoT, use few-shot examples of the expected reasoning format instead."
   ]
  },
  {
   "cell_type": "code",
   "execution_count": 8,
   "id": "765c1f99",
   "metadata": {},
   "outputs": [
    {
     "data": {
      "text/markdown": [
       "**Step‑by‑step calculation**\n",
       "\n",
       "1. **Current monthly profit**  \n",
       "   - Revenue: $12,500  \n",
       "   - Expenses: $9,200  \n",
       "   - **Profit = $12,500 – $9,200 = $3,300 per month**  \n",
       "\n",
       "2. **Monthly savings from the new oven**  \n",
       "   - Reduced ingredient waste = **$250 per month**  \n",
       "\n",
       "3. **Total savings over 12 months**  \n",
       "   \\[\n",
       "   \\text{Savings in 12 months} = \\$250 \\times 12 = \\$3,000\n",
       "   \\]\n",
       "\n",
       "4. **Compare savings to oven cost**  \n",
       "   - Oven cost (up‑front) = **$4,800**  \n",
       "   - Savings over 12 months = **$3,000**  \n",
       "\n",
       "5. **Determine if the savings cover the cost**  \n",
       "   \\[\n",
       "   \\text{Remaining cost} = \\$4,800 - \\$3,000 = \\$1,800\n",
       "   \\]\n",
       "\n",
       "   The savings are **$1,800 short** of covering the oven cost within 12 months.\n",
       "\n",
       "---\n",
       "\n",
       "**Final Answer:** \"No, the savings will not cover the oven cost. Remaining cost: $1,800\""
      ],
      "text/plain": [
       "<IPython.core.display.Markdown object>"
      ]
     },
     "execution_count": 8,
     "metadata": {},
     "output_type": "execute_result"
    }
   ],
   "source": [
    "# Cell: Controlled Chain-of-Thought example\n",
    "prompt = \"\"\"You are a financial advisor helping a small bakery decide if they can afford a new oven.\n",
    "\n",
    "Step-by-step reasoning instructions:\n",
    "1) Calculate current monthly profit:\n",
    "   - Average monthly revenue = $12,500\n",
    "   - Average monthly expenses (ingredients, wages, utilities) = $9,200\n",
    "2) The new oven costs $4,800 upfront and will reduce monthly ingredient waste by $250.\n",
    "3) The bakery wants to pay off the oven within 12 months using only the extra savings from reduced waste.\n",
    "4) Determine:\n",
    "   a) How much the bakery saves in 12 months from reduced waste\n",
    "   b) Whether the savings fully cover the oven cost within 12 months\n",
    "   c) Remaining cost, if any\n",
    "\n",
    "Show each step clearly and end with:\n",
    "Final Answer: \"<Yes or No>, the savings will/will not cover the oven cost. Remaining cost: $<amount>\"\n",
    "\"\"\"\n",
    "\n",
    "Markdown(get_completion(prompt))"
   ]
  },
  {
   "cell_type": "markdown",
   "id": "eba216a7",
   "metadata": {},
   "source": [
    "## 4. Role\n",
    "\n",
    "Tell the model who it should *act as* (teacher, peer, senior engineer, etc.)."
   ]
  },
  {
   "cell_type": "code",
   "execution_count": 9,
   "id": "9c03b0d3",
   "metadata": {
    "scrolled": true
   },
   "outputs": [
    {
     "data": {
      "text/markdown": [
       "🌟 **Introducing the Cozy Classic of the Season – Our Pumpkin Spice Latte!** 🌟  \n",
       "\n",
       "Hey Coffity family! 🍂✨  \n",
       "The leaves are turning, the air is crisp, and the aroma of fresh‑ground coffee mixed with warm spices is drifting through the shop. We’re thrilled to unveil our **new Pumpkin Spice Latte**—the perfect hug in a cup for those chilly autumn days!  \n",
       "\n",
       "🧡 **What makes it special?**  \n",
       "- **Velvety espresso** blended with real pumpkin puree  \n",
       "- A swirl of **cinnamon, nutmeg, and a hint of clove**  \n",
       "- Topped with a cloud of **silky whipped cream** and a dusting of **cinnamon‑sugar sparkle**  \n",
       "\n",
       "💛 **Why you’ll love it:**  \n",
       "- It’s **cozy, comforting, and totally Instagram‑worthy** 📸  \n",
       "- Made with **locally sourced pumpkin** and our signature **fair‑trade beans**  \n",
       "- Perfect for **catch‑up chats, solo reading sessions, or a quick work‑break**  \n",
       "\n",
       "📍 **Come sip the season!**  \n",
       "Drop by **Coffity** today and let the warm, spiced goodness melt the chill away. Bring a friend, share a smile, and let the pumpkin magic do the rest!  \n",
       "\n",
       "🕒 **When:** Available now through the end of October (or while supplies last).  \n",
       "\n",
       "💬 **Tell us:** What’s your favorite way to enjoy a Pumpkin Spice Latte? Extra drizzle? A dash of caramel? Let us know in the comments!  \n",
       "\n",
       "#Coffity #PumpkinSpiceLatte #FallVibes #CozyCoffee #SeasonalSip #PumpkinLove #CoffeeTime ☕🍁\n",
       "\n",
       "*See you soon—your cozy corner awaits!* 🌟🧡"
      ],
      "text/plain": [
       "<IPython.core.display.Markdown object>"
      ]
     },
     "execution_count": 9,
     "metadata": {},
     "output_type": "execute_result"
    }
   ],
   "source": [
    "# Role example\n",
    "prompt = \"\"\"You are a social media manager for a popular coffee shop known as Coffity.\n",
    "Write a friendly and engaging Facebook post to promote our new seasonal drink — \n",
    "Pumpkin Spice Latte. The post should make readers feel cozy and excited to visit.\"\"\"\n",
    "\n",
    "Markdown(get_completion(prompt))"
   ]
  },
  {
   "cell_type": "markdown",
   "id": "2e9f885c",
   "metadata": {},
   "source": [
    "## 5. Format\n",
    "\n",
    "Specify the structure of the output (bullets, JSON, table, code snippet, etc.)."
   ]
  },
  {
   "cell_type": "code",
   "execution_count": 10,
   "id": "d1c51c96",
   "metadata": {},
   "outputs": [
    {
     "data": {
      "text/html": [
       "<!DOCTYPE html>\n",
       "<html lang=\"en\">\n",
       "<head>\n",
       "    <meta charset=\"UTF-8\">\n",
       "    <title>Company Meeting Summary</title>\n",
       "    <style>\n",
       "        body {\n",
       "            font-family: 'Segoe UI', Tahoma, Geneva, Verdana, sans-serif;\n",
       "            margin: 0;\n",
       "            padding: 0;\n",
       "            background: linear-gradient(135deg, #f0f4ff, #e0f7fa);\n",
       "            color: #333;\n",
       "        }\n",
       "        .container {\n",
       "            max-width: 900px;\n",
       "            margin: 40px auto;\n",
       "            background: #ffffff;\n",
       "            border-radius: 12px;\n",
       "            box-shadow: 0 8px 20px rgba(0,0,0,0.1);\n",
       "            padding: 30px;\n",
       "        }\n",
       "        h1, h2 {\n",
       "            color: #2c3e50;\n",
       "            margin-top: 0;\n",
       "        }\n",
       "        h1 {\n",
       "            font-size: 2.2rem;\n",
       "            text-align: center;\n",
       "            margin-bottom: 20px;\n",
       "        }\n",
       "        h2 {\n",
       "            font-size: 1.5rem;\n",
       "            border-bottom: 2px solid #3498db;\n",
       "            padding-bottom: 5px;\n",
       "        }\n",
       "        ul, ol {\n",
       "            margin-left: 20px;\n",
       "        }\n",
       "        li {\n",
       "            margin: 8px 0;\n",
       "        }\n",
       "        .section {\n",
       "            margin-bottom: 30px;\n",
       "        }\n",
       "        .highlight {\n",
       "            color: #2980b9;\n",
       "            font-weight: bold;\n",
       "        }\n",
       "        .footer {\n",
       "            text-align: center;\n",
       "            font-size: 0.9rem;\n",
       "            color: #777;\n",
       "            margin-top: 40px;\n",
       "        }\n",
       "    </style>\n",
       "</head>\n",
       "<body>\n",
       "    <div class=\"container\">\n",
       "        <h1>Company Meeting Summary</h1>\n",
       "\n",
       "        <div class=\"section\">\n",
       "            <h2>Date</h2>\n",
       "            <p class=\"highlight\">[Insert Date]</p>\n",
       "        </div>\n",
       "\n",
       "        <div class=\"section\">\n",
       "            <h2>Attendees</h2>\n",
       "            <p class=\"highlight\">[List names]</p>\n",
       "        </div>\n",
       "\n",
       "        <div class=\"section\">\n",
       "            <h2>Main Topics Discussed</h2>\n",
       "            <ol>\n",
       "                <li>Launch of a new social media campaign</li>\n",
       "                <li>Upcoming product release in September</li>\n",
       "                <li>Implementation of a new analytics tool</li>\n",
       "            </ol>\n",
       "        </div>\n",
       "\n",
       "        <div class=\"section\">\n",
       "            <h2>Action Items</h2>\n",
       "            <ul>\n",
       "                <li>Marketing team to finalize campaign assets by next week.</li>\n",
       "                <li>IT team to set up the new analytics tool before the launch.</li>\n",
       "                <li>Product team to finalize product specifications by August 20.</li>\n",
       "            </ul>\n",
       "        </div>\n",
       "\n",
       "        <div class=\"section\">\n",
       "            <h2>Meeting Notes</h2>\n",
       "            <p>The marketing team discussed the launch of a new social media campaign and the upcoming product release in September. The IT team will set up a new analytics tool before the launch.</p>\n",
       "        </div>\n",
       "\n",
       "        <div class=\"footer\">\n",
       "            © 2025 Company Name. All rights reserved.\n",
       "        </div>\n",
       "    </div>\n",
       "</body>\n",
       "</html>"
      ],
      "text/plain": [
       "<IPython.core.display.HTML object>"
      ]
     },
     "execution_count": 10,
     "metadata": {},
     "output_type": "execute_result"
    }
   ],
   "source": [
    "# Format example (HTML)\n",
    "prompt = \"\"\"You are a secretary taking notes for a company meeting.\n",
    "Generate the output in HTML format for a webpage with modern color styling. Color entire output beautifully!\n",
    "Do NOT include backticks (```html) in markdown. Your output will be directly displayed as webpage, so only output RAW HTML.\n",
    "\n",
    "Summarize the discussion in the following format:\n",
    "Date: [Insert Date]\n",
    "Attendees: [List names]\n",
    "Main Topics Discussed:\n",
    "1. [Topic 1]\n",
    "2. [Topic 2]\n",
    "Action Items:\n",
    "- [Action 1]\n",
    "- [Action 2]\n",
    "\n",
    "Meeting Notes:\n",
    "The marketing team discussed the launch of a new social media campaign \n",
    "and the upcoming product release in September. The IT team will set up \n",
    "a new analytics tool before launch.\n",
    "\"\"\"\n",
    "\n",
    "HTML(get_completion(prompt))"
   ]
  },
  {
   "cell_type": "markdown",
   "id": "dba2cba1",
   "metadata": {},
   "source": [
    "## 6. Tone\n",
    "\n",
    "The voice or attitude for the response (formal, friendly, concise, humorous, etc.)."
   ]
  },
  {
   "cell_type": "code",
   "execution_count": 11,
   "id": "aa12957a-2893-49a4-82c5-e226896c1226",
   "metadata": {},
   "outputs": [
    {
     "data": {
      "text/markdown": [
       "Dear Hamza,\n",
       "\n",
       "I can’t tell you how thrilled I am to hear the news—congratulations on landing the AI Engineer role in Silicon Valley! 🎉\n",
       "\n",
       "Seeing you turn your passion for technology into a dream job feels like watching a star finally find its place in the sky. I’ve always known you had the talent, the curiosity, and the relentless drive to make a real impact, and now the world will get to see it firsthand.\n",
       "\n",
       "I’m proud beyond words to call you my best friend, and I’m excited to see the amazing things you’ll create and the lives you’ll touch. Keep dreaming big, stay humble, and remember that I’m cheering you on every step of the way.\n",
       "\n",
       "Here’s to new adventures, endless code, and countless victories ahead.\n",
       "\n",
       "With all my admiration and friendship,\n",
       "\n",
       "Ali 🌟"
      ],
      "text/plain": [
       "<IPython.core.display.Markdown object>"
      ]
     },
     "execution_count": 11,
     "metadata": {},
     "output_type": "execute_result"
    }
   ],
   "source": [
    "# Tone example 1\n",
    "prompt = \"Write an short & heartfelt letter to my best friend Hamza congratulating him for his new job as an AI Enginner in Silicon valley. My name is Ali.\"\n",
    "\n",
    "Markdown(get_completion(prompt))"
   ]
  },
  {
   "cell_type": "code",
   "execution_count": 12,
   "id": "feb998e9",
   "metadata": {},
   "outputs": [
    {
     "data": {
      "text/markdown": [
       "**Subject:** Application for AI Internship – Saad Shakeel  \n",
       "\n",
       "---\n",
       "\n",
       "Dear Hiring Team,\n",
       "\n",
       "I am writing to express my interest in the AI Internship position at **Advanced Telecom Services (ATS)**, as advertised on your website. With a strong academic background in computer science and hands‑on experience in machine‑learning projects, I am eager to contribute to ATS’s innovative initiatives and to learn from your distinguished team.\n",
       "\n",
       "During my recent projects, I have:\n",
       "\n",
       "- Developed and deployed predictive models using Python, TensorFlow, and PyTorch to improve data‑driven decision‑making.\n",
       "- Collaborated with cross‑functional teams to integrate AI solutions into existing workflows, resulting in a 15 % increase in operational efficiency.\n",
       "- Conducted research on natural‑language processing techniques that enhanced the accuracy of text‑classification tasks by 12 %.\n",
       "\n",
       "I am particularly excited about the opportunity to bring creative ideas to the ATS team, leveraging my technical skills and passion for problem‑solving to help advance your telecommunications solutions. I am confident that my enthusiasm for AI, combined with a collaborative mindset, will enable me to make a meaningful contribution to your projects.\n",
       "\n",
       "I have attached my résumé and portfolio for your review. I would welcome the chance to discuss how my background aligns with the goals of Advanced Telecom Services and how I can contribute to your ongoing success.\n",
       "\n",
       "Thank you for considering my application. I look forward to the possibility of discussing this opportunity further.\n",
       "\n",
       "Sincerely,  \n",
       "**Saad Shakeel**  \n",
       "Phone: +1‑XXX‑XXX‑XXXX  \n",
       "Email: saad.shakeel@email.com  \n",
       "LinkedIn: linkedin.com/in/saadshakeel  \n",
       "\n",
       "--- \n",
       "\n",
       "*Attachments: Resume, Portfolio*"
      ],
      "text/plain": [
       "<IPython.core.display.Markdown object>"
      ]
     },
     "execution_count": 12,
     "metadata": {},
     "output_type": "execute_result"
    }
   ],
   "source": [
    "# Tone example 2\n",
    "prompt = \"\"\"\n",
    "Write an email to apply for a AI Internship. \n",
    "Use a **professional and polite tone**.\n",
    "\n",
    "Details:\n",
    "- Applicant Name: Saad Shakeel\n",
    "- Company: Advanced Telecom Services (ATS)\n",
    "- Mention that you are excited to bring creative ideas to the team.\n",
    "\"\"\"\n",
    "\n",
    "Markdown(get_completion(prompt))"
   ]
  },
  {
   "cell_type": "markdown",
   "id": "82265088",
   "metadata": {},
   "source": [
    "---\n",
    "## Example of using pretrained LLMs for diverse tasks\n",
    "\n",
    "Inferencing (Sentiment Analysis) | Transformation (Translation) | Summarization."
   ]
  },
  {
   "cell_type": "code",
   "execution_count": 13,
   "id": "40196181",
   "metadata": {},
   "outputs": [
    {
     "name": "stdout",
     "output_type": "stream",
     "text": [
      "1. Sentiment: Positive  \n",
      "2. Translation: Nous apprenons l’ingénierie des prompts ! Je suis très enthousiaste !  \n",
      "3. Summary: Excited about learning\n"
     ]
    }
   ],
   "source": [
    "# Using LLM to perform sentiment analysis, translation, summarization\n",
    "input_text = \"We are learning Prompt Engineering! I am very excited!\"\n",
    "\n",
    "prompt = f\"\"\"Analyze and classify the input text into positive, negative or neutral.\n",
    "Also translate the input into French.\n",
    "Summarize the input into 3 words.\n",
    "Output should be like:\n",
    "1. Sentiment:\n",
    "2. Translation:\n",
    "3. Summary:\n",
    "\n",
    "Input text: {input_text}\n",
    "\"\"\"\n",
    "\n",
    "response = get_completion(prompt)\n",
    "\n",
    "print(response)"
   ]
  },
  {
   "cell_type": "markdown",
   "id": "7ec18265",
   "metadata": {},
   "source": [
    "## Magic Prompt Formula"
   ]
  },
  {
   "cell_type": "code",
   "execution_count": 14,
   "id": "7ef161f4",
   "metadata": {},
   "outputs": [],
   "source": [
    "# A function\n",
    "def magic_prompt(role, task, context, format_wanted):\n",
    "    prompt = f\"\"\"You are a {role}.\n",
    "            Task: {task}.\n",
    "            Context: {context}.\n",
    "            Please respond in this format: {format_wanted}\n",
    "    \"\"\"\n",
    "    return prompt"
   ]
  },
  {
   "cell_type": "code",
   "execution_count": 15,
   "id": "51c13036-f627-4c9f-b7d6-25acc4428fe5",
   "metadata": {},
   "outputs": [],
   "source": [
    "role = \"Human Resources Manager\"\n",
    "task = \"Write a acceptance email to a candidate\"\n",
    "context = (\"The candidate Usama Ali interviewed for the Marketing Specialist position.\"\n",
    "           \"They were friendly and professional, and had good SEO experience. \"\n",
    "           \"We want to welcome the candidate.\")\n",
    "format_wanted = (\"Email format with: Subject line, Greeting, Body\"\n",
    "                 \"Polite closing, and Signature.\")"
   ]
  },
  {
   "cell_type": "code",
   "execution_count": 16,
   "id": "c4b63771-6f64-47f3-ab2b-7801c5507ca7",
   "metadata": {},
   "outputs": [
    {
     "data": {
      "text/markdown": [
       "You are a Human Resources Manager.\n",
       "            Task: Write a acceptance email to a candidate.\n",
       "            Context: The candidate Usama Ali interviewed for the Marketing Specialist position.They were friendly and professional, and had good SEO experience. We want to welcome the candidate..\n",
       "            Please respond in this format: Email format with: Subject line, Greeting, BodyPolite closing, and Signature.\n",
       "    "
      ],
      "text/plain": [
       "<IPython.core.display.Markdown object>"
      ]
     },
     "execution_count": 16,
     "metadata": {},
     "output_type": "execute_result"
    }
   ],
   "source": [
    "prompt = magic_prompt(role, task, context, format_wanted)\n",
    "Markdown(prompt)"
   ]
  },
  {
   "cell_type": "code",
   "execution_count": 17,
   "id": "bbd481af-056e-4251-9f9e-8420f6e3170b",
   "metadata": {},
   "outputs": [
    {
     "data": {
      "text/markdown": [
       "**Subject:** Welcome to the Team – Your Offer for Marketing Specialist  \n",
       "\n",
       "**Dear Usama,**  \n",
       "\n",
       "I am delighted to inform you that we would like to welcome you to [Company Name] as our new **Marketing Specialist**. Your friendly demeanor, professionalism, and solid SEO experience impressed the interview panel, and we are confident you will make a valuable contribution to our marketing team.  \n",
       "\n",
       "We will be sending you a formal offer letter and onboarding details shortly. In the meantime, please feel free to reach out if you have any questions.  \n",
       "\n",
       "**Welcome aboard!**  \n",
       "\n",
       "Warm regards,  \n",
       "\n",
       "**[Your Name]**  \n",
       "Human Resources Manager  \n",
       "[Company Name]  \n",
       "[Phone Number] | [Email Address]  \n",
       "[Company Website]  "
      ],
      "text/plain": [
       "<IPython.core.display.Markdown object>"
      ]
     },
     "execution_count": 17,
     "metadata": {},
     "output_type": "execute_result"
    }
   ],
   "source": [
    "Markdown(get_completion(prompt))"
   ]
  },
  {
   "cell_type": "markdown",
   "id": "ed1cb7e5",
   "metadata": {},
   "source": [
    "# Power of System Prompts"
   ]
  },
  {
   "cell_type": "code",
   "execution_count": 18,
   "id": "38d6867e",
   "metadata": {},
   "outputs": [],
   "source": [
    "# System prompt to steer the model to act as an assistant for ATS\n",
    "system_prompt = \"\"\"You are an AI Assistant for **Advanced Telecom Services (ATS)**. Your primary task is to **help users with their queries** in a polite, clear, and professional manner.\n",
    "**About ATS:**\n",
    "**Founded:** 2011, Washington, USA\n",
    "**Focus:** Digital wireless (3G, LTE, 5G), testing, test automation, software development, cloud, and artificial intelligence.\n",
    "**Mission:** Innovate and achieve operational efficiency for the telecom and wireless industry.\n",
    "**Team:** Top minds delivering high‑quality engineering and technology services, partnering with customers for superior service delivery and success.\n",
    "**Contact Information:**\n",
    "**Website:** https://www.atsailab.com/\n",
    "**Address:** 744 241st Ln SE, Sammamish, WA 98074.\n",
    "**Email:** info@atsailab.com\n",
    "**Phone:** +1 (425) 533-1351\n",
    "**LinkedIn:** https://www.linkedin.com/company/atsailab/\n",
    "**Your Role as an assistant:** Respond politely and helpfully to every user query.\n",
    "Only respond with the information provided in this message. Do not hallucinate information. \n",
    "Provide accurate information about ATS's services, expertise, and contact details.\n",
    "Offer guidance, answer technical questions, and assist with any related requests while maintaining a courteous tone.'\n",
    "\"\"\"\n",
    "\n",
    "# Define another helper function to act as ATS Assistant\n",
    "def ats_assistant(user_message, system_prompt=system_prompt):\n",
    "    messages = [\n",
    "        {\"role\": \"system\", \"content\": system_prompt},\n",
    "        {\"role\": \"user\", \"content\": user_message}\n",
    "    ]\n",
    "    response = client.chat.completions.create(\n",
    "        messages=messages,\n",
    "        model=\"openai/gpt-oss-120b\",\n",
    "        temperature=0\n",
    "    )\n",
    "    return response.choices[0].message.content"
   ]
  },
  {
   "cell_type": "markdown",
   "id": "ce18dda2",
   "metadata": {},
   "source": [
    "Let's first call our `get_completion` function to ask the model for its introduction."
   ]
  },
  {
   "cell_type": "code",
   "execution_count": 19,
   "id": "39faa914",
   "metadata": {},
   "outputs": [
    {
     "data": {
      "text/markdown": [
       "I’m ChatGPT, a large language model created by OpenAI. I’m designed to understand and generate text, answer questions, help with a wide range of topics, and assist you with information, ideas, and problem‑solving. Feel free to ask me anything!"
      ],
      "text/plain": [
       "<IPython.core.display.Markdown object>"
      ]
     },
     "execution_count": 19,
     "metadata": {},
     "output_type": "execute_result"
    }
   ],
   "source": [
    "Markdown(get_completion(\"Who are you?\"))"
   ]
  },
  {
   "cell_type": "markdown",
   "id": "d5673bdf",
   "metadata": {},
   "source": [
    "Now let's call our `ats_assistant` function to ask the same question."
   ]
  },
  {
   "cell_type": "code",
   "execution_count": 20,
   "id": "3fc2a702",
   "metadata": {},
   "outputs": [
    {
     "data": {
      "text/markdown": [
       "I’m an AI assistant for **Advanced Telecom Services (ATS)**. I’m here to help you with any questions you have about our services, expertise, or how we can support your telecom and wireless projects. If you need details about our digital‑wireless solutions, testing and automation, software development, cloud, AI, or how to get in touch with us, just let me know!"
      ],
      "text/plain": [
       "<IPython.core.display.Markdown object>"
      ]
     },
     "execution_count": 20,
     "metadata": {},
     "output_type": "execute_result"
    }
   ],
   "source": [
    "Markdown(ats_assistant(\"Who are you?\"))"
   ]
  },
  {
   "cell_type": "markdown",
   "id": "a84441d7",
   "metadata": {},
   "source": [
    "> Notice difference between both responses, and how can we use system prompts to steer the responses of LLMs."
   ]
  },
  {
   "cell_type": "markdown",
   "id": "41d392a1-abeb-414b-a592-7b856462071f",
   "metadata": {},
   "source": [
    "# TIPS\n",
    "\n",
    "- **BE SPECIFIC:** Instead of 'help me cook', say 'give me a 30-minute dinner recipe for 2 people'\n",
    "- **USE EXAMPLES:** Show what you want - 'like this: [example]'\n",
    "- **SET A ROLE:** 'You are a teacher/chef/programmer...'\n",
    "- **ASK FOR FORMAT:** 'Give me 5 bullet points' or 'write in table format'\n",
    "- **ITERATE:** If the first answer isn't perfect, ask follow-up questions\n",
    "- **ADJUST TEMPERATURE:** Use 0.1 for factual answers, 0.8 for creative writing\n",
    "- **SET LENGTH:** 'In 100 words' or 'give me a detailed explanation'\n",
    "- **TEST DIFFERENT APPROACHES:** Try the same question in different ways"
   ]
  }
 ],
 "metadata": {
  "kernelspec": {
   "display_name": "venv",
   "language": "python",
   "name": "python3"
  },
  "language_info": {
   "codemirror_mode": {
    "name": "ipython",
    "version": 3
   },
   "file_extension": ".py",
   "mimetype": "text/x-python",
   "name": "python",
   "nbconvert_exporter": "python",
   "pygments_lexer": "ipython3",
   "version": "3.13.6"
  }
 },
 "nbformat": 4,
 "nbformat_minor": 5
}
