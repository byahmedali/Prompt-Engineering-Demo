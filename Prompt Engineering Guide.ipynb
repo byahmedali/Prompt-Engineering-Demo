{
 "cells": [
  {
   "cell_type": "markdown",
   "id": "6f333a4d",
   "metadata": {},
   "source": [
    "# **Prompt Engineering Guide**\n",
    "\n",
    "This notebook demonstrates prompt engineering principles. It contains explanations, code examples (zero-shot and few-shot), tips on *task, context, examples, role, format, tone*, and guidance for using chain-of-thought (CoT) techniques."
   ]
  },
  {
   "cell_type": "markdown",
   "id": "66fd16db",
   "metadata": {},
   "source": [
    "# Setup\n",
    "\n",
    "Make sure you set your `GROQ_API_KEY` in the environment before running any cells that call the API."
   ]
  },
  {
   "cell_type": "code",
   "execution_count": 5,
   "id": "3c60579e",
   "metadata": {},
   "outputs": [],
   "source": [
    "# Import packages\n",
    "import os\n",
    "from groq import Groq\n",
    "from dotenv import load_dotenv\n",
    "from IPython.display import Markdown"
   ]
  },
  {
   "cell_type": "code",
   "execution_count": 6,
   "id": "9b6e6e30",
   "metadata": {},
   "outputs": [],
   "source": [
    "# Load GROQ API key from .env file\n",
    "load_dotenv()\n",
    "api_key = os.getenv(\"GROQ_API_KEY\")"
   ]
  },
  {
   "cell_type": "code",
   "execution_count": 7,
   "id": "5adf4671",
   "metadata": {},
   "outputs": [],
   "source": [
    "# Define a helper function around Groq's Chat Completion\n",
    "client = Groq(api_key=api_key)\n",
    "\n",
    "def get_completion(prompt, model=\"openai/gpt-oss-120b\"):\n",
    "    messages = [{\"role\": \"user\", \"content\": prompt}]\n",
    "    response = client.chat.completions.create(\n",
    "        messages=messages,\n",
    "        model=model,\n",
    "        temperature=0, # this is the degree of randomness of the model's output\n",
    "    )\n",
    "    return response.choices[0].message.content"
   ]
  },
  {
   "cell_type": "markdown",
   "id": "bc804694",
   "metadata": {},
   "source": [
    "# Components of a Prompt "
   ]
  },
  {
   "cell_type": "markdown",
   "id": "a93a33f4",
   "metadata": {},
   "source": [
    "## 1. Task\n",
    "\n",
    "The explicit instruction stating what you want the model to do.\n",
    "\n",
    "Keep it clear, specific. and focused on a single taks at a time."
   ]
  },
  {
   "cell_type": "code",
   "execution_count": 8,
   "id": "4972c2f5",
   "metadata": {},
   "outputs": [
    {
     "data": {
      "text/markdown": [
       "🚀 **Unlocking the Future of Supply Chains with AI** 🚀  \n",
       "\n",
       "In today’s hyper‑connected world, the supply chain is the beating heart of every business—yet it’s also one of the most complex systems to manage. That’s where **Artificial Intelligence** steps in, turning chaos into clarity and delivering tangible value across the entire value chain. Here’s how AI is reshaping supply‑chain optimization:\n",
       "\n",
       "| 🔍 AI‑Driven Capability | 📈 Business Impact |\n",
       "|------------------------|-------------------|\n",
       "| **Demand Forecasting** (machine‑learning models that ingest sales, weather, social trends, and even macro‑economic data) | • 20‑30% reduction in forecast error <br>• Better alignment of production & inventory |\n",
       "| **Dynamic Inventory Management** (real‑time stock visibility, automated replenishment) | • 15‑25% lower carrying costs <br>• Near‑zero stock‑outs |\n",
       "| **Route & Network Optimization** (AI‑powered routing, load‑consolidation, multimodal planning) | • 10‑15% reduction in transportation spend <br>• Faster delivery times |\n",
       "| **Predictive Maintenance** (sensor data + anomaly detection) | • Up to 30% reduction in equipment downtime <br>• Extended asset life |\n",
       "| **Risk & Disruption Management** (scenario simulation, real‑time alerts) | • Faster response to disruptions (e.g., weather, geopolitical) <br>• Improved resilience & continuity |\n",
       "| **Supplier & Procurement Intelligence** (AI‑driven supplier scoring, contract analytics) | • Better supplier selection & negotiation power <br>• Reduced procurement cycle time |\n",
       "| **Sustainability & Carbon Footprint** (AI‑guided route planning, waste reduction) | • Lower emissions & compliance with ESG goals <br>• Cost savings from reduced waste |\n",
       "\n",
       "---\n",
       "\n",
       "### Why It Matters\n",
       "\n",
       "1️⃣ **Speed & Agility** – AI processes millions of data points in seconds, giving you the ability to pivot instantly.  \n",
       "2️⃣ **Cost Efficiency** – Optimized inventory and routes translate directly into bottom‑line savings.  \n",
       "3️⃣ **Customer Delight** – Faster, more reliable deliveries boost NPS and brand loyalty.  \n",
       "4️⃣ **Future‑Proofing** – AI creates a learning loop that continuously improves as market conditions evolve.\n",
       "\n",
       "---\n",
       "\n",
       "### 📣 Call to Action\n",
       "\n",
       "If you’re ready to **transform your supply chain from a cost center into a strategic advantage**, let’s connect! I’m happy to share case studies, tools, and best‑practice frameworks that have helped companies cut costs by up to **30%** while boosting service levels.\n",
       "\n",
       "🔗 **#AI #SupplyChain #DigitalTransformation #AIinSupplyChain #Logistics #Innovation #Sustainability #DataScience #OperationsExcellence** \n",
       "\n",
       "--- \n",
       "\n",
       "*Feel free to comment or DM if you want to explore how AI can unlock new value for your organization.* 🚀💡"
      ],
      "text/plain": [
       "<IPython.core.display.Markdown object>"
      ]
     },
     "execution_count": 8,
     "metadata": {},
     "output_type": "execute_result"
    }
   ],
   "source": [
    "# Task-only (Zero-shot)\n",
    "prompt = \"Write a LinkedIn post explaining the benefits of AI for supply chain optimization.\"\n",
    "\n",
    "result = get_completion(prompt)\n",
    "Markdown(result)"
   ]
  },
  {
   "cell_type": "markdown",
   "id": "9e07b3e2",
   "metadata": {},
   "source": [
    "## 2. Context\n",
    "\n",
    "Any background information or constraints that help the model produce a more accurate result."
   ]
  },
  {
   "cell_type": "code",
   "execution_count": 9,
   "id": "9e9c046b",
   "metadata": {},
   "outputs": [
    {
     "data": {
      "text/markdown": [
       "🍕✨ **Pizza Planet** – where NYC’s streets meet the perfect wood‑fire slice! 🍕🔥  \n",
       "Family‑run, fire‑kissed, and always served with a smile. 😄  \n",
       "\n",
       "📍 123 Main St, New York  \n",
       "🕒 Open 11 am–10 pm – come grab a slice before it’s gone!  \n",
       "\n",
       "👉 Tag a friend who needs a pizza night out!  \n",
       "#PizzaPlanet #WoodFired #NYCEats #FamilyOwned #PizzaLove 🍃🍅🧀"
      ],
      "text/plain": [
       "<IPython.core.display.Markdown object>"
      ]
     },
     "execution_count": 9,
     "metadata": {},
     "output_type": "execute_result"
    }
   ],
   "source": [
    "# Task + Context\n",
    "prompt = \"\"\"\n",
    "Context: \n",
    "Pizza Planet is a small family-owned pizza shop in New York City. \n",
    "They are famous for their wood-fired pizzas and friendly service.\n",
    "\n",
    "Task: Write a short and catchy Instagram post to attract customers.\n",
    "\"\"\"\n",
    "\n",
    "result = get_completion(prompt)\n",
    "Markdown(result)"
   ]
  },
  {
   "cell_type": "markdown",
   "id": "c23d828e",
   "metadata": {},
   "source": [
    "## 3 Examples (Zero-shot / Few-shot)\n",
    "\n",
    "**Zero-shot:** No examples. Rely on the task and context.\n",
    "\n",
    "**Few-shot:** Provide 1–3 short input→output examples so the model can infer the structure and style."
   ]
  },
  {
   "cell_type": "code",
   "execution_count": 10,
   "id": "e9bc784e",
   "metadata": {},
   "outputs": [
    {
     "data": {
      "text/markdown": [
       "**Imagine a magical invisible road that lets your gadgets talk to each other without any wires. That’s what Wi‑Fi is!**  \n",
       "\n",
       "---\n",
       "\n",
       "### 1. The “Post Office” in Your Home  \n",
       "- **Router** – Think of this as the post office in your house. It’s a little box that sits on a shelf or a table.  \n",
       "- **What it does:** It receives messages (like emails, videos, game data) from the big internet “city” and then sends those messages to the devices in your house (your tablet, laptop, game console, etc.).  \n",
       "\n",
       "### 2. The “Invisible Highway”  \n",
       "- **Radio waves** – Just like the radio in the car that plays music, there are invisible waves that travel through the air. Wi‑Fi uses special radio waves that are too fast for us to see.  \n",
       "- **How they work:** The router sends out these waves, and your devices catch them, kind of like catching a ball that’s thrown through the air.\n",
       "\n",
       "### 3. How a Device Gets the Message  \n",
       "1. **You ask for something** – You tap a picture on your tablet or click a video on YouTube.  \n",
       "2. **Your device shouts, “Hey, I want that!”** – It sends a tiny request on the invisible highway to the router.  \n",
       "3. **The router talks to the internet** – The router talks to the big internet “city” (through a cable or a big antenna) and asks for the picture or video.  \n",
       "4. **The internet sends it back** – The internet sends the picture/video back to the router.  \n",
       "5. **Router sends it to you** – The router turns the data into radio waves, and your device catches them and shows you the picture or video on the screen.\n",
       "\n",
       "### 4. Why It’s “Wi‑Fi”  \n",
       "- **Wi‑** comes from “wireless” (no wires).  \n",
       "- **-Fi** comes from “Fidelity,” which is a fancy word for “good quality.” So “Wi‑Fi” means “wireless with good quality.”\n",
       "\n",
       "### 5. A Quick Everyday Example  \n",
       "\n",
       "| **Real‑world thing** | **Wi‑Fi version** |\n",
       "|---------------------|-----------------|\n",
       "| **Post office**   | Router (the house’s post office) |\n",
       "| **Mail**        | Data (pictures, videos, game info) |\n",
       "| **Roads**      | Invisible radio waves |\n",
       "| **Delivery truck** | The signal that travels back and forth |\n",
       "| **Your house** | Your home where all the devices live |\n",
       "\n",
       "### 6. Why It’s Cool  \n",
       "- **No wires needed** – You can move around with your tablet or phone and still stay connected.  \n",
       "- **Many devices at once** – The router can talk to many gadgets at the same time, like a busy post office handling many letters.  \n",
       "- **Fast** – The radio waves travel super‑fast, so you can watch videos or play games without waiting long.\n",
       "\n",
       "### 7. A Little Safety Tip  \n",
       "Just like you lock your front door so strangers can’t come in, you set a **password** on your Wi‑Fi. That way only the people you want can use your invisible road.\n",
       "\n",
       "---\n",
       "\n",
       "**In a nutshell:**  \n",
       "Your router is a tiny, invisible post office that uses invisible radio waves (the invisible highway) to send and receive messages from the internet. Your devices catch those waves, and that’s how you can watch videos, play games, and chat with friends— all without any wires! 🎉"
      ],
      "text/plain": [
       "<IPython.core.display.Markdown object>"
      ]
     },
     "execution_count": 10,
     "metadata": {},
     "output_type": "execute_result"
    }
   ],
   "source": [
    "# Zero-shot example\n",
    "# prompt = \"Provide 3 essential tips for writing effective code documentation.\"\n",
    "prompt = \"Explain how Wi-Fi works in simple words, as if you are talking to a 10-year-old.\"\n",
    "\n",
    "Markdown(get_completion(prompt))"
   ]
  },
  {
   "cell_type": "code",
   "execution_count": 11,
   "id": "e5f5a96a",
   "metadata": {},
   "outputs": [
    {
     "data": {
      "text/markdown": [
       "We’re sorry for the mix‑up! Please reply with your order number and the size you need, and we’ll arrange an exchange right away."
      ],
      "text/plain": [
       "<IPython.core.display.Markdown object>"
      ]
     },
     "execution_count": 11,
     "metadata": {},
     "output_type": "execute_result"
    }
   ],
   "source": [
    "# Few-shot example\n",
    "prompt = \"\"\"\n",
    "You are a customer service assistant. \n",
    "Read the customer's email and reply politely, keeping your answer short and clear.\n",
    "\n",
    "Examples:\n",
    "\n",
    "Customer: \"My package arrived late and the box was damaged.\"\n",
    "Reply: \"We’re sorry to hear that! Please send us a photo of the damage, and we’ll arrange a replacement right away.\"\n",
    "\n",
    "Customer: \"Can I change my delivery address?\"\n",
    "Reply: \"Of course! Please reply with your new address, and we’ll update it before shipping.\"\n",
    "\n",
    "Now complete this one:\n",
    "\n",
    "Customer: \"I received the wrong size shirt. Can I exchange it?\"\n",
    "Reply:\n",
    "\"\"\"\n",
    "\n",
    "Markdown(get_completion(prompt))"
   ]
  },
  {
   "cell_type": "markdown",
   "id": "eba216a7",
   "metadata": {},
   "source": [
    "## 4. Role\n",
    "\n",
    "Tell the model who it should *act as* (teacher, peer, senior engineer, etc.)."
   ]
  },
  {
   "cell_type": "code",
   "execution_count": 13,
   "id": "9c03b0d3",
   "metadata": {},
   "outputs": [
    {
     "data": {
      "text/markdown": [
       "☕️🍂 **Cozy Up with Our New Pumpkin Spice Latte!** 🍂☕️\n",
       "\n",
       "Hey coffee lovers! 🎉 Fall has officially arrived at **[Your Coffee Shop]**, and we’re thrilled to introduce our **seasonal Pumpkin Spice Latte**—the ultimate hug in a cup! 🎃✨\n",
       "\n",
       "🌟 **What makes it special?**\n",
       "- **Velvety espresso** blended with **silky steamed milk**\n",
       "- A perfect swirl of **spiced pumpkin, cinnamon, and nutmeg**\n",
       "- Topped with a cloud of **whipped cream** and a **sprinkle of cinnamon** for that extra cozy touch\n",
       "\n",
       "Whether you’re catching up with friends, diving into a good book, or just taking a moment for yourself, our Pumpkin Spice Latte is the perfect companion to make your day feel warm and wonderful. 🌞💛\n",
       "\n",
       "📍 **Come visit us** today and let the aroma of fresh pumpkin spice fill the air! Bring a friend, share a smile, and sip the season. \n",
       "\n",
       "📸 **Snap a pic** of your latte, tag us @YourCoffeeShop, and use #PumpkinSpiceJoy for a chance to win a free latte on your next visit! \n",
       "\n",
       "We can’t wait to see you—let’s make this fall unforgettable, one sip at a time. 🍁☕️\n",
       "\n",
       "#PumpkinSpiceLatte #FallVibes #CoffeeLove #CozyMoments #YourCoffeeShop 🌟✨"
      ],
      "text/plain": [
       "<IPython.core.display.Markdown object>"
      ]
     },
     "execution_count": 13,
     "metadata": {},
     "output_type": "execute_result"
    }
   ],
   "source": [
    "# Role example\n",
    "prompt = \"\"\"You are a social media manager for a popular coffee shop.\n",
    "Write a friendly and engaging Facebook post to promote our new seasonal drink — \n",
    "Pumpkin Spice Latte. The post should make readers feel cozy and excited to visit.\"\"\"\n",
    "\n",
    "Markdown(get_completion(prompt))"
   ]
  },
  {
   "cell_type": "markdown",
   "id": "2e9f885c",
   "metadata": {},
   "source": [
    "## 5. Format\n",
    "\n",
    "Specify the structure of the output (bullets, JSON, table, code snippet, etc.)."
   ]
  },
  {
   "cell_type": "code",
   "execution_count": 14,
   "id": "d1c51c96",
   "metadata": {},
   "outputs": [
    {
     "data": {
      "text/markdown": [
       "**Date:** 2025‑08‑09  \n",
       "\n",
       "**Attendees:** Marketing Team, IT Team  \n",
       "\n",
       "**Main Topics Discussed:**  \n",
       "1. Launch of a new social media campaign  \n",
       "2. Upcoming product release scheduled for September  \n",
       "3. Implementation of a new analytics tool  \n",
       "\n",
       "**Action Items:**  \n",
       "- Marketing team to finalize and schedule the social media campaign in alignment with the September product release.  \n",
       "- IT team to set up and test the new analytics tool before the campaign launch.  \n",
       "\n",
       "**Meeting Notes:**  \n",
       "The marketing team discussed the launch of a new social media campaign and the upcoming product release in September. The IT team will set up a new analytics tool before launch."
      ],
      "text/plain": [
       "<IPython.core.display.Markdown object>"
      ]
     },
     "execution_count": 14,
     "metadata": {},
     "output_type": "execute_result"
    }
   ],
   "source": [
    "# Format example (JSON)\n",
    "prompt = \"\"\"\n",
    "You are a secretary taking notes for a company meeting.\n",
    "Summarize the discussion in the following format:\n",
    "\n",
    "Date: [Insert Date]\n",
    "Attendees: [List names]\n",
    "Main Topics Discussed:\n",
    "1. [Topic 1]\n",
    "2. [Topic 2]\n",
    "Action Items:\n",
    "- [Action 1]\n",
    "- [Action 2]\n",
    "\n",
    "Meeting Notes:\n",
    "The marketing team discussed the launch of a new social media campaign \n",
    "and the upcoming product release in September. The IT team will set up \n",
    "a new analytics tool before launch.\n",
    "\"\"\"\n",
    "\n",
    "Markdown(get_completion(prompt))"
   ]
  },
  {
   "cell_type": "markdown",
   "id": "dba2cba1",
   "metadata": {},
   "source": [
    "## 6. Tone\n",
    "\n",
    "The voice or attitude for the response (formal, friendly, concise, humorous, etc.)."
   ]
  },
  {
   "cell_type": "code",
   "execution_count": 16,
   "id": "feb998e9",
   "metadata": {},
   "outputs": [
    {
     "data": {
      "text/markdown": [
       "**Subject:** Application for AI Internship – Saad Shakeel  \n",
       "\n",
       "---\n",
       "\n",
       "Dear Hiring Team,\n",
       "\n",
       "I am writing to express my interest in the AI Internship position at **Advanced Telecom Services (ATS)**, as advertised on your website. With a strong academic background in computer science and hands‑on experience in machine‑learning projects, I am eager to contribute to ATS’s innovative initiatives and to learn from your distinguished team.\n",
       "\n",
       "During my recent projects, I have:\n",
       "\n",
       "- Developed and deployed predictive models using Python, TensorFlow, and PyTorch to improve data‑driven decision‑making.\n",
       "- Collaborated with cross‑functional teams to integrate AI solutions into existing workflows, resulting in a 15 % increase in operational efficiency.\n",
       "- Conducted research on natural‑language processing techniques that enhanced the accuracy of text‑classification tasks by 12 %.\n",
       "\n",
       "I am particularly excited about the opportunity to bring creative ideas to the ATS team, leveraging my technical skills and passion for problem‑solving to help advance your telecommunications solutions. I am confident that my enthusiasm for AI, combined with a collaborative mindset, will enable me to make a meaningful contribution to your projects.\n",
       "\n",
       "I have attached my résumé and portfolio for your review. I would welcome the chance to discuss how my background aligns with the goals of Advanced Telecom Services and how I can contribute to your ongoing success.\n",
       "\n",
       "Thank you for considering my application. I look forward to the possibility of discussing this opportunity further.\n",
       "\n",
       "Sincerely,  \n",
       "**Saad Shakeel**  \n",
       "Phone: +1‑XXX‑XXX‑XXXX  \n",
       "Email: saad.shakeel@email.com  \n",
       "LinkedIn: linkedin.com/in/saadshakeel  \n",
       "\n",
       "--- \n",
       "\n",
       "*Attachments: Resume, Portfolio*"
      ],
      "text/plain": [
       "<IPython.core.display.Markdown object>"
      ]
     },
     "execution_count": 16,
     "metadata": {},
     "output_type": "execute_result"
    }
   ],
   "source": [
    "# Tone example\n",
    "\n",
    "prompt = \"\"\"\n",
    "Write an email to apply for a AI Internship. \n",
    "Use a **professional and polite tone**.\n",
    "\n",
    "Details:\n",
    "- Applicant Name: Saad Shakeel\n",
    "- Company: Advanced Telecom Services (ATS)\n",
    "- Mention that you are excited to bring creative ideas to the team.\n",
    "\"\"\"\n",
    "\n",
    "Markdown(get_completion(prompt))\n"
   ]
  },
  {
   "cell_type": "markdown",
   "id": "b064183b",
   "metadata": {},
   "source": [
    "# Chain-of-Thought (CoT) Techniques\n",
    "\n",
    "Chain-of-thought prompts instruct the model to reveal intermediate reasoning steps. Use them carefully:\n",
    "\n",
    "- **When to use:** debugging, teaching, transparent reasoning.\n",
    "- **When to avoid:** tasks requiring concise or private outputs, or when you don't want the model to hallucinate extra steps.\n",
    "\n",
    "**Controlled-CoT pattern (preferred):** Ask for a short step-by-step reasoning section followed by a final concise answer."
   ]
  },
  {
   "cell_type": "code",
   "execution_count": 17,
   "id": "55a62a98",
   "metadata": {},
   "outputs": [
    {
     "data": {
      "text/markdown": [
       "**Step‑by‑step calculation**\n",
       "\n",
       "1. **Current monthly profit**  \n",
       "   - Revenue: $12,500  \n",
       "   - Expenses: $9,200  \n",
       "   - **Profit = $12,500 – $9,200 = $3,300 per month**  \n",
       "\n",
       "2. **Savings from reduced waste**  \n",
       "   - Reduction in waste = **$250 per month**  \n",
       "\n",
       "3. **Total savings over 12 months**  \n",
       "   \\[\n",
       "   \\text{Savings per month} \\times 12 = \\$250 \\times 12 = \\boxed{\\$3,000}\n",
       "   \\]\n",
       "\n",
       "4. **Compare savings to oven cost**  \n",
       "   - Oven cost = **$4,800**  \n",
       "   - Savings over 12 months = **$3,000**  \n",
       "\n",
       "   Since $3,000 < $4,800, the savings do **not** fully cover the oven cost.\n",
       "\n",
       "5. **Remaining amount to be covered**  \n",
       "   \\[\n",
       "   \\text{Remaining cost} = \\$4,800 - \\$3,000 = \\boxed{\\$1,800}\n",
       "   \\]\n",
       "\n",
       "---\n",
       "\n",
       "**Final Answer:** \"No, the savings will not cover the oven cost. Remaining cost: $1,800\""
      ],
      "text/plain": [
       "<IPython.core.display.Markdown object>"
      ]
     },
     "execution_count": 17,
     "metadata": {},
     "output_type": "execute_result"
    }
   ],
   "source": [
    "# Cell: Controlled Chain-of-Thought example\n",
    "prompt = \"\"\"\n",
    "You are a financial advisor helping a small bakery decide if they can afford a new oven.\n",
    "\n",
    "Step-by-step reasoning instructions:\n",
    "1) Calculate current monthly profit:\n",
    "   - Average monthly revenue = $12,500\n",
    "   - Average monthly expenses (ingredients, wages, utilities) = $9,200\n",
    "2) The new oven costs $4,800 upfront and will reduce monthly ingredient waste by $250.\n",
    "3) The bakery wants to pay off the oven within 12 months using only the extra savings from reduced waste.\n",
    "4) Determine:\n",
    "   a) How much the bakery saves in 12 months from reduced waste\n",
    "   b) Whether the savings fully cover the oven cost within 12 months\n",
    "   c) Remaining cost, if any\n",
    "\n",
    "Show each step clearly and end with:\n",
    "Final Answer: \"<Yes or No>, the savings will/will not cover the oven cost. Remaining cost: $<amount>\"\n",
    "\"\"\"\n",
    "\n",
    "Markdown(get_completion(prompt))"
   ]
  },
  {
   "cell_type": "markdown",
   "id": "057f5265",
   "metadata": {},
   "source": [
    "**Note:** Explicit CoT can sometimes increase risk of hallucination and token use. If the model is unreliable with CoT, use few-shot examples of the expected reasoning format instead."
   ]
  },
  {
   "cell_type": "markdown",
   "id": "7ec18265",
   "metadata": {},
   "source": [
    "# Magic Prompt Formula \n",
    "\n",
    "#### Magic formula for great prompts:\n",
    "#### ROLE + TASK + CONTEXT + FORMAT = GREAT RESULTS!"
   ]
  },
  {
   "cell_type": "code",
   "execution_count": 31,
   "id": "7ef161f4",
   "metadata": {},
   "outputs": [],
   "source": [
    "def magic_prompt(role, task, context, format_wanted):\n",
    "    prompt = f\"\"\"You are a {role}.\n",
    "Task: {task}.\n",
    "Context: {context}.\n",
    "Please respond in this format: {format_wanted}\n",
    "    \"\"\"\n",
    "    return prompt"
   ]
  },
  {
   "cell_type": "code",
   "execution_count": 32,
   "id": "51c13036-f627-4c9f-b7d6-25acc4428fe5",
   "metadata": {},
   "outputs": [],
   "source": [
    "role = \"Human Resources Manager\"\n",
    "task = \"Write a rejection email to a candidate\"\n",
    "context = (\"The candidate interviewed for the Marketing Specialist position. \"\n",
    "           \"They were friendly and professional, but lacked the required SEO experience. \"\n",
    "           \"We want to maintain a positive relationship for future openings.\")\n",
    "format_wanted = (\"Email format with: Subject line, Greeting, Body, \"\n",
    "                 \"Polite closing, and Signature.\")"
   ]
  },
  {
   "cell_type": "code",
   "execution_count": 36,
   "id": "c4b63771-6f64-47f3-ab2b-7801c5507ca7",
   "metadata": {},
   "outputs": [
    {
     "data": {
      "text/plain": [
       "'You are a Human Resources Manager.\\nTask: Write a rejection email to a candidate.\\nContext: The candidate interviewed for the Marketing Specialist position. They were friendly and professional, but lacked the required SEO experience. We want to maintain a positive relationship for future openings..\\nPlease respond in this format: Email format with: Subject line, Greeting, Body, Polite closing, and Signature.\\n    '"
      ]
     },
     "execution_count": 36,
     "metadata": {},
     "output_type": "execute_result"
    }
   ],
   "source": [
    "prompt = magic_prompt(role, task, context, format_wanted)\n",
    "prompt"
   ]
  },
  {
   "cell_type": "code",
   "execution_count": 37,
   "id": "bbd481af-056e-4251-9f9e-8420f6e3170b",
   "metadata": {},
   "outputs": [
    {
     "data": {
      "text/markdown": [
       "**Subject:** Thank You for Interviewing for the Marketing Specialist Role  \n",
       "\n",
       "**Dear [Candidate’s Name],**  \n",
       "\n",
       "Thank you for taking the time to interview for the Marketing Specialist position at [Company Name]. It was a pleasure meeting you and learning about your experience and enthusiasm for our team.  \n",
       "\n",
       "After careful consideration, we have decided to move forward with another candidate whose background more closely aligns with the SEO expertise required for this role. This decision was not easy, as we were impressed by your professionalism and the positive energy you brought to the interview.  \n",
       "\n",
       "We truly appreciate your interest in joining our team and encourage you to stay connected with us. We will keep your résumé on file and will reach out should a future opportunity better match your skill set. In the meantime, please feel free to apply for any openings that align with your experience on our careers page.\n",
       "\n",
       "Thank you again for your time and interest in [Company Name]. We wish you continued success in your career and hope our paths cross again.\n",
       "\n",
       "**Warm regards,**  \n",
       "\n",
       "[Your Full Name]  \n",
       "Human Resources Manager  \n",
       "[Company Name]  \n",
       "[Phone Number] | [Email Address]  \n",
       "[Company Website]  "
      ],
      "text/plain": [
       "<IPython.core.display.Markdown object>"
      ]
     },
     "execution_count": 37,
     "metadata": {},
     "output_type": "execute_result"
    }
   ],
   "source": [
    "Markdown(get_completion(prompt))"
   ]
  },
  {
   "cell_type": "markdown",
   "id": "41d392a1-abeb-414b-a592-7b856462071f",
   "metadata": {},
   "source": [
    "# TIPS FOR SUCCESS\n",
    "\n",
    "- **BE SPECIFIC:** Instead of 'help me cook', say 'give me a 30-minute dinner recipe for 2 people'\n",
    "- **USE EXAMPLES:** Show what you want - 'like this: [example]'\n",
    "- **SET A ROLE:** 'You are a teacher/chef/programmer...'\n",
    "- **ASK FOR FORMAT:** 'Give me 5 bullet points' or 'write in table format'\n",
    "- **ITERATE:** If the first answer isn't perfect, ask follow-up questions\n",
    "- **ADJUST TEMPERATURE:** Use 0.1 for factual answers, 0.8 for creative writing\n",
    "- **SET LENGTH:** 'In 100 words' or 'give me a detailed explanation'\n",
    "- **TEST DIFFERENT APPROACHES:** Try the same question in different ways"
   ]
  },
  {
   "cell_type": "markdown",
   "id": "89dba7bd-94ab-4250-91f0-eab3b5c06958",
   "metadata": {},
   "source": [
    "# COMMON MISTAKES\n",
    "\n",
    "❌ Too vague: 'Tell me about history'\n",
    "✅ Better: 'Explain the main causes of World War I in 3 points'\n",
    "\n",
    "❌ No context: 'How do I fix this?'\n",
    "✅ Better: 'How do I fix this Python error: NameError in line 5?'\n",
    "\n",
    "❌ Asking multiple things: 'Explain AI, machine learning, and write code'\n",
    "✅ Better: Focus on one thing at a time\"\n",
    "\n",
    "❌ No format specified: 'Give me information about dogs'\n",
    "✅ Better: 'List 5 facts about dogs in bullet points'"
   ]
  },
  {
   "cell_type": "code",
   "execution_count": null,
   "id": "6c16686d-e8ef-43f9-b55d-338a71e09fa9",
   "metadata": {},
   "outputs": [],
   "source": []
  }
 ],
 "metadata": {
  "kernelspec": {
   "display_name": "Python 3 (ipykernel)",
   "language": "python",
   "name": "python3"
  },
  "language_info": {
   "codemirror_mode": {
    "name": "ipython",
    "version": 3
   },
   "file_extension": ".py",
   "mimetype": "text/x-python",
   "name": "python",
   "nbconvert_exporter": "python",
   "pygments_lexer": "ipython3",
   "version": "3.12.10"
  }
 },
 "nbformat": 4,
 "nbformat_minor": 5
}
